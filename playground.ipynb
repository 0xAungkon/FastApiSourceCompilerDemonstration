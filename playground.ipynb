{
 "cells": [
  {
   "cell_type": "code",
   "execution_count": 3,
   "id": "30f19fd8",
   "metadata": {},
   "outputs": [],
   "source": [
    "import subprocess\n",
    "\n",
    "def run_command(command: str) -> bool:\n",
    "    process = subprocess.Popen(command, shell=True, stdout=subprocess.PIPE, stderr=subprocess.STDOUT, text=True)\n",
    "    for line in process.stdout:\n",
    "        print(line, end='')\n",
    "    process.wait()\n",
    "    return process.returncode == 0\n"
   ]
  },
  {
   "cell_type": "code",
   "execution_count": 6,
   "id": "1e169312",
   "metadata": {},
   "outputs": [
    {
     "name": "stdout",
     "output_type": "stream",
     "text": [
      "Listing 'app'...\n",
      "Listing 'app/routers'...\n"
     ]
    }
   ],
   "source": [
    "app_dir='app'\n",
    "\n",
    "status=run_command(f'python3 -m compileall {app_dir}')\n",
    "if not status:\n",
    "    print(\"Compilation failed. Please check the output above for errors.\")\n",
    "\n",
    "\n",
    "status = run_command(f'find {app_dir}/ -name \"*.py\" -type f -delete')\n",
    "if not status:\n",
    "    print(\"Compilation failed. Please check the output above for errors.\")\n",
    "    \n",
    "    "
   ]
  },
  {
   "cell_type": "code",
   "execution_count": 8,
   "id": "219adf86",
   "metadata": {},
   "outputs": [],
   "source": [
    "import shutil\n",
    "from pathlib import Path\n",
    "\n",
    "def copy_pyc_files(src_dir='app'):\n",
    "    for pyc_file in Path(src_dir).rglob('__pycache__/*.cpython-313.pyc'):\n",
    "        filename = pyc_file.stem.split('.cpython-313')[0]\n",
    "        dest_path = pyc_file.parents[1] / f\"{filename}.pyc\"\n",
    "        shutil.copy2(pyc_file, dest_path)\n",
    "copy_pyc_files()"
   ]
  },
  {
   "cell_type": "code",
   "execution_count": null,
   "id": "e879c23f",
   "metadata": {},
   "outputs": [],
   "source": [
    "import shutil\n",
    "from pathlib import Path\n",
    "\n",
    "def delete_pycache_dirs(src_dir='app'):\n",
    "    for pycache_dir in Path(src_dir).rglob('__pycache__'):\n",
    "        if pycache_dir.is_dir():\n",
    "            shutil.rmtree(pycache_dir)\n",
    "delete_pycache_dirs()"
   ]
  }
 ],
 "metadata": {
  "kernelspec": {
   "display_name": ".venv",
   "language": "python",
   "name": "python3"
  },
  "language_info": {
   "codemirror_mode": {
    "name": "ipython",
    "version": 3
   },
   "file_extension": ".py",
   "mimetype": "text/x-python",
   "name": "python",
   "nbconvert_exporter": "python",
   "pygments_lexer": "ipython3",
   "version": "3.13.2"
  }
 },
 "nbformat": 4,
 "nbformat_minor": 5
}
